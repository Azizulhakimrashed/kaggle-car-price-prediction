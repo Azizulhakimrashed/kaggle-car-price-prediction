{
 "cells": [
  {
   "cell_type": "code",
   "execution_count": null,
   "id": "31b8d2c1-2b05-492a-ba67-12389b408ae5",
   "metadata": {},
   "outputs": [],
   "source": [
    "#make text from pdf file\n",
    "import PyPDF2\n",
    "\n",
    "# Open the PDF file in read-binary mode\n",
    "with open('example.pdf', 'rb') as pdf_file:\n",
    "    pdf_reader = PyPDF2.PdfFileReader(pdf_file)\n",
    "    \n",
    "    # Create or open a text file to write the output\n",
    "    with open('output.txt', 'w') as text_file:\n",
    "        # Iterate through each page of the PDF\n",
    "        for page_num in range(pdf_reader.numPages):\n",
    "            page = pdf_reader.getPage(page_num)\n",
    "            text = page.extractText()  # Extract text from the page\n",
    "            text_file.write(text)  # Write the extracted text to the text file"
   ]
  },
  {
   "cell_type": "code",
   "execution_count": 6,
   "id": "7b1479e4-36d1-4fd6-850a-4a3a547a932c",
   "metadata": {},
   "outputs": [
    {
     "ename": "ModuleNotFoundError",
     "evalue": "No module named 'tasks'",
     "output_type": "error",
     "traceback": [
      "\u001b[1;31m---------------------------------------------------------------------------\u001b[0m",
      "\u001b[1;31mModuleNotFoundError\u001b[0m                       Traceback (most recent call last)",
      "Cell \u001b[1;32mIn[6], line 3\u001b[0m\n\u001b[0;32m      1\u001b[0m \u001b[38;5;66;03m#import libraries\u001b[39;00m\n\u001b[0;32m      2\u001b[0m \u001b[38;5;28;01mfrom\u001b[39;00m \u001b[38;5;21;01mcrewai\u001b[39;00m \u001b[38;5;28;01mimport\u001b[39;00m Agent,Task,Crew,Process\n\u001b[1;32m----> 3\u001b[0m \u001b[38;5;28;01mfrom\u001b[39;00m \u001b[38;5;21;01mtasks\u001b[39;00m \u001b[38;5;28;01mimport\u001b[39;00m research_task,write_task\n\u001b[0;32m      4\u001b[0m \u001b[38;5;28;01mfrom\u001b[39;00m \u001b[38;5;21;01mtools\u001b[39;00m \u001b[38;5;28;01mimport\u001b[39;00m FileReadTool,SerperDevTool,FileWriterTool\n\u001b[0;32m      5\u001b[0m \u001b[38;5;28;01mfrom\u001b[39;00m \u001b[38;5;21;01mdotenv\u001b[39;00m \u001b[38;5;28;01mimport\u001b[39;00m load_dotenv\n",
      "\u001b[1;31mModuleNotFoundError\u001b[0m: No module named 'tasks'"
     ]
    }
   ],
   "source": [
    "#import libraries\n",
    "from crewai import Agent,Task,Crew,Process\n",
    "from tasks import research_task,write_task\n",
    "from tools import FileReadTool,SerperDevTool,FileWriterTool\n",
    "from dotenv import load_dotenv"
   ]
  },
  {
   "cell_type": "code",
   "execution_count": 5,
   "id": "87bc202b-4816-4705-8a65-3f41d67d2b19",
   "metadata": {},
   "outputs": [
    {
     "ename": "NameError",
     "evalue": "name 'load_dotenv' is not defined",
     "output_type": "error",
     "traceback": [
      "\u001b[1;31m---------------------------------------------------------------------------\u001b[0m",
      "\u001b[1;31mNameError\u001b[0m                                 Traceback (most recent call last)",
      "Cell \u001b[1;32mIn[5], line 2\u001b[0m\n\u001b[0;32m      1\u001b[0m \u001b[38;5;66;03m#setting environment\u001b[39;00m\n\u001b[1;32m----> 2\u001b[0m load_dotenv()\n\u001b[0;32m      3\u001b[0m os\u001b[38;5;241m.\u001b[39menviron[\u001b[38;5;124m\"\u001b[39m\u001b[38;5;124mOPENAI_API_KEY\u001b[39m\u001b[38;5;124m\"\u001b[39m] \u001b[38;5;241m=\u001b[39m os\u001b[38;5;241m.\u001b[39mgetenv(\u001b[38;5;124m\"\u001b[39m\u001b[38;5;124mOPENAI_API_KEY\u001b[39m\u001b[38;5;124m\"\u001b[39m)\n\u001b[0;32m      4\u001b[0m os\u001b[38;5;241m.\u001b[39menviron[\u001b[38;5;124m\"\u001b[39m\u001b[38;5;124mOPENAI_MODEL_NAME\u001b[39m\u001b[38;5;124m\"\u001b[39m]\u001b[38;5;241m=\u001b[39m\u001b[38;5;124m\"\u001b[39m\u001b[38;5;124mgpt-4-0125-preview\u001b[39m\u001b[38;5;124m\"\u001b[39m\n",
      "\u001b[1;31mNameError\u001b[0m: name 'load_dotenv' is not defined"
     ]
    }
   ],
   "source": [
    "#setting environment\n",
    "load_dotenv()\n",
    "os.environ[\"OPENAI_API_KEY\"] = os.getenv(\"OPENAI_API_KEY\")\n",
    "os.environ[\"OPENAI_MODEL_NAME\"]=\"gpt-4-0125-preview\""
   ]
  },
  {
   "cell_type": "code",
   "execution_count": 4,
   "id": "b7f4b178-9c46-42cd-9361-4103d41bafbe",
   "metadata": {},
   "outputs": [
    {
     "ename": "NameError",
     "evalue": "name 'Agent' is not defined",
     "output_type": "error",
     "traceback": [
      "\u001b[1;31m---------------------------------------------------------------------------\u001b[0m",
      "\u001b[1;31mNameError\u001b[0m                                 Traceback (most recent call last)",
      "Cell \u001b[1;32mIn[4], line 2\u001b[0m\n\u001b[0;32m      1\u001b[0m \u001b[38;5;66;03m#build text reader agent\u001b[39;00m\n\u001b[1;32m----> 2\u001b[0m file_reader\u001b[38;5;241m=\u001b[39mAgent(\n\u001b[0;32m      3\u001b[0m     role\u001b[38;5;241m=\u001b[39m\u001b[38;5;124m'\u001b[39m\u001b[38;5;124mRead cv and extract ingsight from cv\u001b[39m\u001b[38;5;124m'\u001b[39m,\n\u001b[0;32m      4\u001b[0m     goal\u001b[38;5;241m=\u001b[39m\u001b[38;5;124m'\u001b[39m\u001b[38;5;124mread and extract ingsight like position,experience,requermwnts\u001b[39m\u001b[38;5;124m'\u001b[39m,\n\u001b[0;32m      5\u001b[0m     verboe\u001b[38;5;241m=\u001b[39m\u001b[38;5;28;01mTrue\u001b[39;00m,\n\u001b[0;32m      6\u001b[0m     memory\u001b[38;5;241m=\u001b[39m\u001b[38;5;28;01mTrue\u001b[39;00m,\n\u001b[0;32m      7\u001b[0m     backstory\u001b[38;5;241m=\u001b[39m(\n\u001b[0;32m      8\u001b[0m        \u001b[38;5;124m\"\u001b[39m\u001b[38;5;124mYou are an expert in extracting valuable insight from \u001b[39m\u001b[38;5;132;01m{CV}\u001b[39;00m\u001b[38;5;124m \u001b[39m\u001b[38;5;124m\"\u001b[39m \n\u001b[0;32m      9\u001b[0m     ),\n\u001b[0;32m     10\u001b[0m     tools\u001b[38;5;241m=\u001b[39m\u001b[38;5;124m\"\u001b[39m\u001b[38;5;124mFileReadTool\u001b[39m\u001b[38;5;124m\"\u001b[39m,\n\u001b[0;32m     11\u001b[0m     allow_delegation\u001b[38;5;241m=\u001b[39m\u001b[38;5;28;01mTrue\u001b[39;00m\n\u001b[0;32m     12\u001b[0m )\n\u001b[0;32m     13\u001b[0m \u001b[38;5;66;03m#build job finder agent\u001b[39;00m\n\u001b[0;32m     14\u001b[0m job_finder\u001b[38;5;241m=\u001b[39mAgent(\n\u001b[0;32m     15\u001b[0m     role\u001b[38;5;241m=\u001b[39m\u001b[38;5;124m'\u001b[39m\u001b[38;5;124mjob finder\u001b[39m\u001b[38;5;124m'\u001b[39m,\n\u001b[0;32m     16\u001b[0m     goal\u001b[38;5;241m=\u001b[39m\u001b[38;5;124m'\u001b[39m\u001b[38;5;124mFind job across internet accordingly \u001b[39m\u001b[38;5;132;01m{Role}\u001b[39;00m\u001b[38;5;124m'\u001b[39m,\n\u001b[1;32m   (...)\u001b[0m\n\u001b[0;32m     27\u001b[0m \n\u001b[0;32m     28\u001b[0m )\n",
      "\u001b[1;31mNameError\u001b[0m: name 'Agent' is not defined"
     ]
    }
   ],
   "source": [
    "#build text reader agent\n",
    "file_reader=Agent(\n",
    "    role='Read cv and extract ingsight from cv',\n",
    "    goal='read and extract ingsight like position,experience,requermwnts',\n",
    "    verboe=True,\n",
    "    memory=True,\n",
    "    backstory=(\n",
    "       \"You are an expert in extracting valuable insight from {CV} \" \n",
    "    ),\n",
    "    tools=\"FileReadTool\",\n",
    "    allow_delegation=True\n",
    ")\n",
    "#build job finder agent\n",
    "job_finder=Agent(\n",
    "    role='job finder',\n",
    "    goal='Find job across internet accordingly {Role}',\n",
    "    verbose=True,\n",
    "    memory=True,\n",
    "    backstory=(\n",
    "        \"you are an expert in finding job accordingly to cvs roles, years of experiences,requermwnts\"\n",
    "        \"bring latest 10 job post fron internet\"\n",
    "        \"make and provide job posts link\"\n",
    "    ),\n",
    "    tools=\"SerperDevTool\",\n",
    "    allow_delegation=True\n",
    "\n",
    "\n",
    ")\n"
   ]
  },
  {
   "cell_type": "code",
   "execution_count": 1,
   "id": "a48ca217-8ad3-4f48-8264-ff285e5517d2",
   "metadata": {},
   "outputs": [
    {
     "ename": "NameError",
     "evalue": "name 'Task' is not defined",
     "output_type": "error",
     "traceback": [
      "\u001b[1;31m---------------------------------------------------------------------------\u001b[0m",
      "\u001b[1;31mNameError\u001b[0m                                 Traceback (most recent call last)",
      "Cell \u001b[1;32mIn[1], line 2\u001b[0m\n\u001b[0;32m      1\u001b[0m \u001b[38;5;66;03m#define the task of agent with tool\u001b[39;00m\n\u001b[1;32m----> 2\u001b[0m file_read_task \u001b[38;5;241m=\u001b[39m Task(\n\u001b[0;32m      3\u001b[0m   description\u001b[38;5;241m=\u001b[39m(\n\u001b[0;32m      4\u001b[0m     \u001b[38;5;124m\"\u001b[39m\u001b[38;5;124mRead the cv \u001b[39m\u001b[38;5;132;01m{CV}\u001b[39;00m\u001b[38;5;124m.\u001b[39m\u001b[38;5;124m\"\u001b[39m\n\u001b[0;32m      5\u001b[0m     \u001b[38;5;124m\"\u001b[39m\u001b[38;5;124mGet detailed information about the CV provided.\u001b[39m\u001b[38;5;124m\"\u001b[39m\n\u001b[0;32m      6\u001b[0m   ),\n\u001b[0;32m      7\u001b[0m   expected_output\u001b[38;5;241m=\u001b[39m\u001b[38;5;124m'\u001b[39m\u001b[38;5;124mExtracting role,years of roles, years of experiences,requermwnts and put that in a file\u001b[39m\u001b[38;5;124m'\u001b[39m,\n\u001b[0;32m      8\u001b[0m   tools\u001b[38;5;241m=\u001b[39m\u001b[38;5;124m\"\u001b[39m\u001b[38;5;124mFileReadTool\u001b[39m\u001b[38;5;124m\"\u001b[39m,\n\u001b[0;32m      9\u001b[0m   agent\u001b[38;5;241m=\u001b[39mfile_reader,\n\u001b[0;32m     10\u001b[0m )\n\u001b[0;32m     11\u001b[0m \u001b[38;5;66;03m#define the task of agent with tool\u001b[39;00m\n\u001b[0;32m     12\u001b[0m job_find_task \u001b[38;5;241m=\u001b[39m Task(\n\u001b[0;32m     13\u001b[0m   description\u001b[38;5;241m=\u001b[39m(\n\u001b[0;32m     14\u001b[0m     \u001b[38;5;124m'\u001b[39m\u001b[38;5;124mConduct thorough research to find potential job for the specified candidates.\u001b[39m\u001b[38;5;124m'\u001b[39m\n\u001b[1;32m   (...)\u001b[0m\n\u001b[0;32m     22\u001b[0m   output_file\u001b[38;5;241m=\u001b[39m\u001b[38;5;124m'\u001b[39m\u001b[38;5;124mnew-blog-post.md\u001b[39m\u001b[38;5;124m'\u001b[39m  \u001b[38;5;66;03m# Example of output customization\u001b[39;00m\n\u001b[0;32m     23\u001b[0m )\n",
      "\u001b[1;31mNameError\u001b[0m: name 'Task' is not defined"
     ]
    }
   ],
   "source": [
    "#define the task of agent with tool\n",
    "file_read_task = Task(\n",
    "  description=(\n",
    "    \"Read the cv {CV}.\"\n",
    "    \"Get detailed information about the CV provided.\"\n",
    "  ),\n",
    "  expected_output='Extracting role,years of roles, years of experiences,requermwnts and put that in a file',\n",
    "  tools=\"FileReadTool\",\n",
    "  agent=file_reader,\n",
    ")\n",
    "#define the task of agent with tool\n",
    "job_find_task = Task(\n",
    "  description=(\n",
    "    'Conduct thorough research to find potential job for the specified candidates.'\n",
    "    'Utilize various online resources and databases to gather a comprehensive list of potential job.'\n",
    "    'Ensure that the job requirements meet the job provided.'\n",
    "  ),\n",
    "  expected_output='A list of 10 potential latest job openings with their contact information and links.',\n",
    "  tools=\"SerperDevTool\",\n",
    "  agent=job_finder,\n",
    "  async_execution=False,\n",
    "  output_file='new-blog-post.md'  # Example of output customization\n",
    ")"
   ]
  },
  {
   "cell_type": "code",
   "execution_count": 2,
   "id": "ac769b56-962f-4a4c-9eec-61ec3cd8b57e",
   "metadata": {},
   "outputs": [
    {
     "ename": "NameError",
     "evalue": "name 'Crew' is not defined",
     "output_type": "error",
     "traceback": [
      "\u001b[1;31m---------------------------------------------------------------------------\u001b[0m",
      "\u001b[1;31mNameError\u001b[0m                                 Traceback (most recent call last)",
      "Cell \u001b[1;32mIn[2], line 2\u001b[0m\n\u001b[0;32m      1\u001b[0m \u001b[38;5;66;03m#build the crew \u001b[39;00m\n\u001b[1;32m----> 2\u001b[0m crew \u001b[38;5;241m=\u001b[39m Crew(\n\u001b[0;32m      3\u001b[0m   agents\u001b[38;5;241m=\u001b[39m[file_reader, job_finder],\n\u001b[0;32m      4\u001b[0m   tasks\u001b[38;5;241m=\u001b[39m[file_read_task, job_find_task],\n\u001b[0;32m      5\u001b[0m   process\u001b[38;5;241m=\u001b[39mProcess\u001b[38;5;241m.\u001b[39msequential,  \u001b[38;5;66;03m# Optional: Sequential task execution is default\u001b[39;00m\n\u001b[0;32m      6\u001b[0m   memory\u001b[38;5;241m=\u001b[39m\u001b[38;5;28;01mTrue\u001b[39;00m,\n\u001b[0;32m      7\u001b[0m   cache\u001b[38;5;241m=\u001b[39m\u001b[38;5;28;01mTrue\u001b[39;00m,\n\u001b[0;32m      8\u001b[0m   max_rpm\u001b[38;5;241m=\u001b[39m\u001b[38;5;241m100\u001b[39m,\n\u001b[0;32m      9\u001b[0m   share_crew\u001b[38;5;241m=\u001b[39m\u001b[38;5;28;01mTrue\u001b[39;00m\n\u001b[0;32m     10\u001b[0m )\n\u001b[0;32m     12\u001b[0m \u001b[38;5;66;03m## start the task execution process with enhanced feedback\u001b[39;00m\n\u001b[0;32m     13\u001b[0m result\u001b[38;5;241m=\u001b[39mcrew\u001b[38;5;241m.\u001b[39mkickoff()\n",
      "\u001b[1;31mNameError\u001b[0m: name 'Crew' is not defined"
     ]
    }
   ],
   "source": [
    "#build the crew \n",
    "crew = Crew(\n",
    "  agents=[file_reader, job_finder],\n",
    "  tasks=[file_read_task, job_find_task],\n",
    "  process=Process.sequential,  # Optional: Sequential task execution is default\n",
    "  memory=True,\n",
    "  cache=True,\n",
    "  max_rpm=100,\n",
    "  share_crew=True\n",
    ")\n",
    "\n",
    "## start the task execution process with enhanced feedback\n",
    "result=crew.kickoff()\n",
    "print(result)"
   ]
  },
  {
   "cell_type": "code",
   "execution_count": null,
   "id": "8b4868db-935f-46e2-995a-54bd7aa1b0b9",
   "metadata": {},
   "outputs": [],
   "source": []
  },
  {
   "cell_type": "code",
   "execution_count": null,
   "id": "1706bd36-718a-4f7c-a298-e4ea577233bd",
   "metadata": {},
   "outputs": [],
   "source": []
  },
  {
   "cell_type": "code",
   "execution_count": null,
   "id": "d07fd8cd-93a4-4b97-9287-59fffefed011",
   "metadata": {},
   "outputs": [],
   "source": []
  },
  {
   "cell_type": "code",
   "execution_count": null,
   "id": "ae0bd702-e880-41fb-8d4d-78f027edce81",
   "metadata": {},
   "outputs": [],
   "source": []
  },
  {
   "cell_type": "code",
   "execution_count": null,
   "id": "bceb07ea-b4da-42aa-bd65-4906fe6be61f",
   "metadata": {},
   "outputs": [],
   "source": []
  },
  {
   "cell_type": "code",
   "execution_count": null,
   "id": "ad2aced4-b072-4de8-98bb-8b5343faea9f",
   "metadata": {},
   "outputs": [],
   "source": []
  },
  {
   "cell_type": "code",
   "execution_count": null,
   "id": "5fc17a28-24c0-4d41-8d7b-93fa18d1d3d9",
   "metadata": {},
   "outputs": [],
   "source": []
  },
  {
   "cell_type": "code",
   "execution_count": null,
   "id": "aafdaba5-c3ed-481b-90fb-7a37539f16b0",
   "metadata": {},
   "outputs": [],
   "source": []
  },
  {
   "cell_type": "code",
   "execution_count": null,
   "id": "24eaf93c-56f3-494c-b9ad-4acb6db5352a",
   "metadata": {},
   "outputs": [],
   "source": []
  },
  {
   "cell_type": "code",
   "execution_count": null,
   "id": "14f24cb3-dfd6-48b3-bcd2-dd5e4652d7b9",
   "metadata": {},
   "outputs": [],
   "source": []
  },
  {
   "cell_type": "code",
   "execution_count": null,
   "id": "717c3912-a90a-4530-b540-4602c2120226",
   "metadata": {},
   "outputs": [],
   "source": []
  },
  {
   "cell_type": "code",
   "execution_count": null,
   "id": "ef84b741-812f-43d7-aa73-403158acc78d",
   "metadata": {},
   "outputs": [],
   "source": []
  },
  {
   "cell_type": "code",
   "execution_count": null,
   "id": "a0019d61-4d5f-4a62-a35c-92df002e412c",
   "metadata": {},
   "outputs": [],
   "source": []
  },
  {
   "cell_type": "code",
   "execution_count": null,
   "id": "41f39b54-49ac-40ec-9879-6f0eebfab60a",
   "metadata": {},
   "outputs": [],
   "source": []
  },
  {
   "cell_type": "code",
   "execution_count": null,
   "id": "2c8fade3-1db5-4848-ac11-5615fedcaad2",
   "metadata": {},
   "outputs": [],
   "source": []
  },
  {
   "cell_type": "code",
   "execution_count": null,
   "id": "32a5861f-9115-4d4e-9cfd-fd09e81c7b65",
   "metadata": {},
   "outputs": [],
   "source": []
  }
 ],
 "metadata": {
  "kernelspec": {
   "display_name": "Python 3 (ipykernel)",
   "language": "python",
   "name": "python3"
  },
  "language_info": {
   "codemirror_mode": {
    "name": "ipython",
    "version": 3
   },
   "file_extension": ".py",
   "mimetype": "text/x-python",
   "name": "python",
   "nbconvert_exporter": "python",
   "pygments_lexer": "ipython3",
   "version": "3.11.7"
  }
 },
 "nbformat": 4,
 "nbformat_minor": 5
}
